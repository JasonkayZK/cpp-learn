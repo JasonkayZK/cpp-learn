{
 "cells": [
  {
   "cell_type": "markdown",
   "id": "a8a23f5b-4fb1-47ea-8689-e6af70ddae7f",
   "metadata": {},
   "source": [
    "# Explicit构造函数"
   ]
  },
  {
   "cell_type": "markdown",
   "id": "8de5c8d1-70fc-443a-89dd-106569d50221",
   "metadata": {},
   "source": [
    "## 不使用Explicit的构造函数\n",
    "\n",
    "构造函数不声明为 explicit 时，在创建对象时，就会存在类型转换！\n",
    "\n",
    "**尤其单个参数的构造函数，必须要声明为 explicit；**\n",
    "\n",
    "以下面的为例，就会存在类型转换，导致 obj 能够被隐式初始化；"
   ]
  },
  {
   "cell_type": "code",
   "execution_count": 1,
   "id": "5260c0c9-82c1-42c1-8064-47d78a20245b",
   "metadata": {},
   "outputs": [
    {
     "data": {
      "text/plain": []
     },
     "execution_count": 1,
     "metadata": {},
     "output_type": "execute_result"
    }
   ],
   "source": [
    "class IntCell {\n",
    "    public:\n",
    "        IntCell(int initVal = 0) : storedVal(initVal) {}\n",
    "        \n",
    "        int read() const {\n",
    "            return storedVal;\n",
    "        }\n",
    "    \n",
    "        void write(int x) {\n",
    "            storedVal = x;\n",
    "        }\n",
    "    \n",
    "    private:\n",
    "        int storedVal;\n",
    "}"
   ]
  },
  {
   "cell_type": "code",
   "execution_count": 2,
   "id": "379f5409-7640-4e73-a9d2-75283247ef64",
   "metadata": {},
   "outputs": [
    {
     "data": {
      "text/plain": [
       "(IntCell &) @0x7fe374b38010\n"
      ]
     },
     "execution_count": 2,
     "metadata": {},
     "output_type": "execute_result"
    }
   ],
   "source": [
    "IntCell obj;\n",
    "obj = 37; // Ok to compile!"
   ]
  },
  {
   "cell_type": "code",
   "execution_count": 3,
   "id": "8f3a6e09-e45c-4c41-b0dc-f96be1673551",
   "metadata": {},
   "outputs": [
    {
     "data": {
      "text/plain": [
       "(int) 37\n"
      ]
     },
     "execution_count": 3,
     "metadata": {},
     "output_type": "execute_result"
    }
   ],
   "source": [
    "obj.read();"
   ]
  },
  {
   "cell_type": "markdown",
   "id": "a40d0fbb-9a0f-4cc0-b2c2-2ed801ae4a72",
   "metadata": {},
   "source": [
    "## 使用Explicit的构造函数\n",
    "\n",
    "声明为 explicit 的构造函数可以避免上面的问题"
   ]
  },
  {
   "cell_type": "code",
   "execution_count": 1,
   "id": "5f840f1e-c37f-470c-b1aa-8ce71f8c0469",
   "metadata": {},
   "outputs": [
    {
     "data": {
      "text/plain": []
     },
     "execution_count": 1,
     "metadata": {},
     "output_type": "execute_result"
    }
   ],
   "source": [
    "class NewIntCell {\n",
    "    public:\n",
    "        explicit NewIntCell(int initVal = 0) : storedVal(initVal) {}\n",
    "        \n",
    "        int read() const {\n",
    "            return storedVal;\n",
    "        }\n",
    "    \n",
    "        void write(int x) {\n",
    "            storedVal = x;\n",
    "        }\n",
    "    \n",
    "    private:\n",
    "        int storedVal;\n",
    "}"
   ]
  },
  {
   "cell_type": "code",
   "execution_count": 2,
   "id": "0647ee20-695f-48cc-917e-8bd297a6a2ef",
   "metadata": {},
   "outputs": [
    {
     "name": "stderr",
     "output_type": "stream",
     "text": [
      "input_line_4:3:6: error: no viable overloaded '='\n",
      "obj2 = 37; // Failed to compile!\n",
      "~~~~ ^ ~~\n",
      "input_line_3:1:7: note: candidate function (the implicit copy assignment operator) not viable: no known conversion from 'int' to 'const NewIntCell' for 1st argument\n",
      "class NewIntCell {\n",
      "      ^\n",
      "input_line_3:1:7: note: candidate function (the implicit move assignment operator) not viable: no known conversion from 'int' to 'NewIntCell' for 1st argument\n"
     ]
    },
    {
     "ename": "ename",
     "evalue": "evalue",
     "output_type": "error",
     "traceback": []
    }
   ],
   "source": [
    "NewIntCell obj2;\n",
    "// obj2 = 37; \n",
    "\n",
    "// Failed to compile!\n",
    "// no viable overloaded '='\n",
    "// note: candidate function (the implicit copy assignment operator) not viable: no known conversion from 'int' to 'const NewIntCell' for 1st argument"
   ]
  },
  {
   "cell_type": "code",
   "execution_count": null,
   "id": "8787a62d-6c56-466f-bb66-5c7c38bffd7c",
   "metadata": {},
   "outputs": [],
   "source": []
  }
 ],
 "metadata": {
  "kernelspec": {
   "display_name": "C++17",
   "language": "C++",
   "name": "cling-cpp17"
  },
  "language_info": {
   "codemirror_mode": "c++",
   "file_extension": ".c++",
   "mimetype": "text/x-c++src",
   "name": "c++"
  }
 },
 "nbformat": 4,
 "nbformat_minor": 5
}
