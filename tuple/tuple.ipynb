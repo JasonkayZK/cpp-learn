{
 "cells": [
  {
   "cell_type": "markdown",
   "id": "6f2f3060-318d-41e9-bd2f-94a338a2f837",
   "metadata": {},
   "source": [
    "# tuple"
   ]
  },
  {
   "cell_type": "code",
   "execution_count": 1,
   "id": "194cbc97-cdae-4839-8156-2d890b9e8070",
   "metadata": {},
   "outputs": [
    {
     "data": {
      "text/plain": []
     },
     "execution_count": 1,
     "metadata": {},
     "output_type": "execute_result"
    }
   ],
   "source": [
    "#include <iostream>\n",
    "#include <tuple>\n",
    "#include <vector>"
   ]
  },
  {
   "cell_type": "code",
   "execution_count": 2,
   "id": "511131bd-742b-4e88-b305-fd0ca60c49ec",
   "metadata": {},
   "outputs": [
    {
     "name": "stdout",
     "output_type": "stream",
     "text": [
      "4\n",
      "1 9 2 6 0 "
     ]
    },
    {
     "data": {
      "text/plain": []
     },
     "execution_count": 2,
     "metadata": {},
     "output_type": "execute_result"
    }
   ],
   "source": [
    "constexpr auto expr = 1 + 1 * 4 - 5 - 1 + 4;\n",
    "\n",
    "std::vector<int> vec = {1, 9, 2, 6, 0};\n",
    "std::tuple<int, int, std::string, std::vector<int> > tup1 =\n",
    "  std::make_tuple(817, 114, \"514\", vec);\n",
    "std::cout << std::tuple_size<decltype(tup1)>::value << std::endl;\n",
    "\n",
    "for (auto i : std::get<expr>(tup1)) std::cout << i << \" \";\n",
    "// std::get<> 中尖括号里面的必须是整型常量表达式\n",
    "// expr 常量的值是 3，注意 std::tuple 的首元素编号为 0，\n",
    "// 故我们 std::get 到了一个 std::vector<int>"
   ]
  },
  {
   "cell_type": "markdown",
   "id": "eda01ba7-91a0-4f95-ae2d-26e0fc57b2e8",
   "metadata": {},
   "source": [
    "## operator= & swap"
   ]
  },
  {
   "cell_type": "code",
   "execution_count": 3,
   "id": "b20d3e37-2da7-4448-916f-d25b0f03fe52",
   "metadata": {},
   "outputs": [
    {
     "data": {
      "text/plain": [
       "(void) @0x7f8c25ff98e8\n"
      ]
     },
     "execution_count": 3,
     "metadata": {},
     "output_type": "execute_result"
    }
   ],
   "source": [
    "constexpr std::tuple<int, int> tup = std::make_tuple(1, 2);\n",
    "std::tuple<int, int> tupA = std::make_tuple(2, 3);\n",
    "std::tuple<int, int> tupB;\n",
    "tupB = tup;\n",
    "tupB.swap(tupA);"
   ]
  },
  {
   "cell_type": "code",
   "execution_count": null,
   "id": "9801c1ef-ccec-43f9-bf63-35a06d6816d9",
   "metadata": {},
   "outputs": [],
   "source": []
  },
  {
   "cell_type": "code",
   "execution_count": null,
   "id": "bc99d266-4c20-42d8-bc6d-9d90ff7edc8a",
   "metadata": {},
   "outputs": [],
   "source": []
  }
 ],
 "metadata": {
  "kernelspec": {
   "display_name": "C++1z",
   "language": "C++",
   "name": "cling-cpp1z"
  },
  "language_info": {
   "codemirror_mode": "c++",
   "file_extension": ".c++",
   "mimetype": "text/x-c++src",
   "name": "c++"
  }
 },
 "nbformat": 4,
 "nbformat_minor": 5
}
