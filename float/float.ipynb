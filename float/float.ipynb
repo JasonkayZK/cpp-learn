{
 "cells": [
  {
   "cell_type": "markdown",
   "id": "578d4ef8-63bd-4c83-80a5-78ff8c87b667",
   "metadata": {},
   "source": [
    "# 浮点数"
   ]
  },
  {
   "cell_type": "markdown",
   "id": "e7d395c5-7f88-4ad3-b09e-039b09b7c280",
   "metadata": {},
   "source": [
    "## **基本表示**\n",
    "\n",
    "浮点数的表示为：\n",
    "\n",
    "- `±m x n^e`\n",
    "\n",
    "其中：\n",
    "\n",
    "- n均取值为2\n",
    "- 32位浮点数：1（符号位）、8（指数位e）、23（尾数位）；\n",
    "- 64位浮点数：1（符号位）、11（指数位e）、52（尾数位）；"
   ]
  },
  {
   "cell_type": "markdown",
   "id": "286957b6-560e-4fb8-af29-dd15927e2a99",
   "metadata": {},
   "source": [
    "## **尾数位**\n",
    "\n",
    "**尾数位使用`将（二进制）表示的小数点前面的值固定为1的正则表达式`；**\n",
    "\n",
    "例如：\n",
    "\n",
    "- `1011.0011 => 0001.01100110000000000000000`\n"
   ]
  },
  {
   "cell_type": "markdown",
   "id": "87e62da4-58fb-474b-a333-bd4503e1b8ef",
   "metadata": {},
   "source": [
    "## **指数位**\n",
    "\n",
    "**指数位使用EXCESS系统表示：**\n",
    "\n",
    "**将中间值设为0，使用左边的值作为负数，右边的值作为正数；**\n",
    "\n",
    "例如，对于八位数：\n",
    "\n",
    "使用最大值 `11111111=255` 的 `1/2`，即 `01111111=127` 表示 `0`，则表示范围为：\n",
    "\n",
    "- `0 => -127`\n",
    "- `255 => 128`\n"
   ]
  },
  {
   "cell_type": "markdown",
   "id": "b09eae75-5974-43de-9215-6b122932dc71",
   "metadata": {},
   "source": [
    "## **使用代码打印float表示**\n",
    "\n",
    "下面的代码打印出了float在内存中的真实表示"
   ]
  },
  {
   "cell_type": "code",
   "execution_count": 1,
   "id": "d8a14f34-a871-45c0-8129-32bdc9ebd58f",
   "metadata": {},
   "outputs": [
    {
     "data": {
      "text/plain": []
     },
     "execution_count": 1,
     "metadata": {},
     "output_type": "execute_result"
    }
   ],
   "source": [
    "#include<stdio.h>\n",
    "#include<string.h>"
   ]
  },
  {
   "cell_type": "code",
   "execution_count": 2,
   "id": "96a2f126-3d78-44df-97d0-886d7de41250",
   "metadata": {},
   "outputs": [
    {
     "name": "stdout",
     "output_type": "stream",
     "text": [
      "0-00111111-10000000000000000000000\n"
     ]
    },
    {
     "data": {
      "text/plain": [
       "(int) 35\n"
      ]
     },
     "execution_count": 2,
     "metadata": {},
     "output_type": "execute_result"
    }
   ],
   "source": [
    "float data = 0.75;\n",
    "unsigned long buff;\n",
    "char s[35];\n",
    "\n",
    "memcpy(&buff, &data, 4);\n",
    "\n",
    "for (int i = 33; i >= 0; --i) {\n",
    "    if (i == 1 || i == 10) {\n",
    "        s[i] = '-';\n",
    "    } else {\n",
    "        if (buff % 2 == 1) {\n",
    "            s[i] = '1';\n",
    "        } else {\n",
    "            s[i] = '0';\n",
    "        }\n",
    "    }\n",
    "    buff /= 2;\n",
    "}\n",
    "s[34] = '\\0';\n",
    "\n",
    "printf(\"%s\\n\", s);"
   ]
  },
  {
   "cell_type": "markdown",
   "id": "e8dfe171-e152-44e1-ac11-beef341c9237",
   "metadata": {},
   "source": [
    "\n",
    "上面的代码表示：\n",
    "\n",
    "`+1.1 x 2^(-1) = +1.5 x 0.5 = 0.75`"
   ]
  },
  {
   "cell_type": "code",
   "execution_count": null,
   "id": "e8a6ed55-6daa-431d-904b-37fd36af1cbe",
   "metadata": {},
   "outputs": [],
   "source": []
  }
 ],
 "metadata": {
  "kernelspec": {
   "display_name": "C++17",
   "language": "C++",
   "name": "cling-cpp17"
  },
  "language_info": {
   "codemirror_mode": "c++",
   "file_extension": ".c++",
   "mimetype": "text/x-c++src",
   "name": "c++"
  }
 },
 "nbformat": 4,
 "nbformat_minor": 5
}
