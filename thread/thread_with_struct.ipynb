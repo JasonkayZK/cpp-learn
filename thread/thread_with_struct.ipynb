{
 "cells": [
  {
   "cell_type": "markdown",
   "id": "1b77c4d4-cf69-4b64-81d2-691100d7752b",
   "metadata": {},
   "source": [
    "## 使用带有函数调用符类型的实例创建线程"
   ]
  },
  {
   "cell_type": "code",
   "execution_count": 1,
   "id": "7c904d93-b4e7-4edd-aa2c-a0438575ef6d",
   "metadata": {},
   "outputs": [
    {
     "data": {
      "text/plain": []
     },
     "execution_count": 1,
     "metadata": {},
     "output_type": "execute_result"
    }
   ],
   "source": [
    "#include<thread>\n",
    "#include<iostream>"
   ]
  },
  {
   "cell_type": "code",
   "execution_count": 2,
   "id": "41fd9321-e772-4213-a898-2aef3782a692",
   "metadata": {},
   "outputs": [
    {
     "data": {
      "text/plain": []
     },
     "execution_count": 2,
     "metadata": {},
     "output_type": "execute_result"
    }
   ],
   "source": [
    "class background_task {\n",
    "public:\n",
    "    void operator()() const {\n",
    "        do_something();\n",
    "        do_something_else();\n",
    "    }\n",
    "\n",
    "    static void do_something() {\n",
    "        std::cout << \"Hello, World-3!\" << std::endl;\n",
    "    }\n",
    "\n",
    "    static void do_something_else() {\n",
    "        std::cout << \"Hello, World-4!\" << std::endl;\n",
    "    }\n",
    "};"
   ]
  },
  {
   "cell_type": "code",
   "execution_count": 3,
   "id": "36fdf266-9ef9-4260-8a90-c62b89c35545",
   "metadata": {},
   "outputs": [
    {
     "name": "stdout",
     "output_type": "stream",
     "text": [
      "Hello, World-3!\n",
      "Hello, World-4!\n"
     ]
    },
    {
     "data": {
      "text/plain": []
     },
     "execution_count": 3,
     "metadata": {},
     "output_type": "execute_result"
    }
   ],
   "source": [
    "background_task f;\n",
    "std::thread my_thread(f);"
   ]
  },
  {
   "cell_type": "code",
   "execution_count": null,
   "id": "cc2d0abb-e2f3-49ff-98ef-ee0c25a8c26e",
   "metadata": {},
   "outputs": [],
   "source": []
  }
 ],
 "metadata": {
  "kernelspec": {
   "display_name": "C++17",
   "language": "C++",
   "name": "cling-cpp17"
  },
  "language_info": {
   "codemirror_mode": "c++",
   "file_extension": ".c++",
   "mimetype": "text/x-c++src",
   "name": "c++"
  }
 },
 "nbformat": 4,
 "nbformat_minor": 5
}
