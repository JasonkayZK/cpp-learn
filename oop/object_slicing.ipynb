{
 "cells": [
  {
   "cell_type": "markdown",
   "id": "0caef1b6-2d44-4724-836e-81d213b0dc0b",
   "metadata": {},
   "source": [
    "# Object Slicing"
   ]
  },
  {
   "cell_type": "code",
   "execution_count": 1,
   "id": "72c0c9f4-c218-46dd-b6d7-72d5054d8150",
   "metadata": {},
   "outputs": [
    {
     "data": {
      "text/plain": []
     },
     "execution_count": 1,
     "metadata": {},
     "output_type": "execute_result"
    }
   ],
   "source": [
    "#include <iostream>\n",
    "#include <vector>\n",
    "\n",
    "using namespace std;"
   ]
  },
  {
   "cell_type": "code",
   "execution_count": 2,
   "id": "fc9ed719-bc1a-4485-8133-c1512110d0d9",
   "metadata": {},
   "outputs": [
    {
     "data": {
      "text/plain": []
     },
     "execution_count": 2,
     "metadata": {},
     "output_type": "execute_result"
    }
   ],
   "source": [
    "class Base {\n",
    "public:\n",
    "    explicit Base(int mVal) : m_val_(mVal) {}\n",
    "\n",
    "    [[nodiscard]] virtual const char *get_name() const { return \"Base\"; }\n",
    "\n",
    "    [[nodiscard]] int get_m_val() const { return m_val_; }\n",
    "\n",
    "protected:\n",
    "    int m_val_;\n",
    "};\n",
    "\n",
    "class Derived : public Base {\n",
    "public:\n",
    "    explicit Derived(int mVal) : Base(mVal) {}\n",
    "\n",
    "    [[nodiscard]] const char *get_name() const override { return \"Derived\"; }\n",
    "};"
   ]
  },
  {
   "cell_type": "code",
   "execution_count": 3,
   "id": "a2715a20-c273-43a7-a66a-0ba77ba78175",
   "metadata": {},
   "outputs": [
    {
     "name": "stdout",
     "output_type": "stream",
     "text": [
      "derived is a Derived and has value 5\n",
      "ref is a Derived and has value 5\n",
      "ptr is a Derived and has value 5\n"
     ]
    },
    {
     "data": {
      "text/plain": [
       "(std::basic_ostream<char, std::char_traits<char> > &) @0x7f0b754e3700\n"
      ]
     },
     "execution_count": 3,
     "metadata": {},
     "output_type": "execute_result"
    }
   ],
   "source": [
    "Derived derived{5};\n",
    "std::cout << \"derived is a \" << derived.get_name() << \" and has value \" << derived.get_m_val() << '\\n';\n",
    "\n",
    "Base &ref{derived};\n",
    "std::cout << \"ref is a \" << ref.get_name() << \" and has value \" << ref.get_m_val() << '\\n';\n",
    "\n",
    "Base *ptr{&derived};\n",
    "std::cout << \"ptr is a \" << ptr->get_name() << \" and has value \" << ptr->get_m_val() << '\\n';"
   ]
  },
  {
   "cell_type": "markdown",
   "id": "66acee61-bc51-4506-a0f4-d780ccf08fc4",
   "metadata": {},
   "source": [
    "## **Object Slice**"
   ]
  },
  {
   "cell_type": "code",
   "execution_count": 4,
   "id": "2eec9e97-44ab-4613-af60-bb2e26b21136",
   "metadata": {},
   "outputs": [
    {
     "name": "stdout",
     "output_type": "stream",
     "text": [
      "base is a Base and has value 5\n"
     ]
    },
    {
     "data": {
      "text/plain": [
       "(std::basic_ostream<char, std::char_traits<char> > &) @0x7f0b754e3700\n"
      ]
     },
     "execution_count": 4,
     "metadata": {},
     "output_type": "execute_result"
    }
   ],
   "source": [
    "Base base{derived};\n",
    "std::cout << \"base is a \" << base.get_name() << \" and has value \" << base.get_m_val() << '\\n';\n"
   ]
  },
  {
   "cell_type": "markdown",
   "id": "3ae1b7ec-c098-4432-8727-f3faa0c39eed",
   "metadata": {},
   "source": [
    "## **Object Slicing in function call**"
   ]
  },
  {
   "cell_type": "code",
   "execution_count": 5,
   "id": "43cadacd-8990-4e20-84ea-3180c357c2d4",
   "metadata": {},
   "outputs": [
    {
     "name": "stdout",
     "output_type": "stream",
     "text": [
      "I am a Base\n"
     ]
    },
    {
     "data": {
      "text/plain": [
       "(void) @0x7f0b62ffb8e8\n"
      ]
     },
     "execution_count": 5,
     "metadata": {},
     "output_type": "execute_result"
    }
   ],
   "source": [
    "void printName(const Base base) { // note: base pass by value, not reference\n",
    "    std::cout << \"I am a \" << base.get_name() << '\\n';\n",
    "}\n",
    "\n",
    "Derived d{ 5 };\n",
    "printName(d);"
   ]
  },
  {
   "cell_type": "code",
   "execution_count": null,
   "id": "4179e8f7-d461-4744-b731-da3aae26a2a8",
   "metadata": {},
   "outputs": [],
   "source": []
  },
  {
   "cell_type": "code",
   "execution_count": 6,
   "id": "a256cd15-f946-4298-a0ed-8681bdc01347",
   "metadata": {},
   "outputs": [
    {
     "name": "stdout",
     "output_type": "stream",
     "text": [
      "I am a Base with value 5\n",
      "I am a Base with value 6\n"
     ]
    },
    {
     "data": {
      "text/plain": []
     },
     "execution_count": 6,
     "metadata": {},
     "output_type": "execute_result"
    }
   ],
   "source": [
    "std::vector<Base> v{};\n",
    "v.push_back(Base{ 5 }); // All a Base object into vector\n",
    "v.push_back(Derived{ 6 }); // All a Derived object into vector\n",
    "for (const auto& element : v)\n",
    "  std::cout << \"I am a \" << element.get_name() << \" with value \" << element.get_m_val() << '\\n';"
   ]
  },
  {
   "cell_type": "markdown",
   "id": "349a9570-e6fe-48ff-ab1a-a720dc09f7db",
   "metadata": {},
   "source": [
    "### **Fix Object Slicing in Vector**"
   ]
  },
  {
   "cell_type": "code",
   "execution_count": 7,
   "id": "33a9f5c0-c901-4045-86c6-5049384d412a",
   "metadata": {},
   "outputs": [
    {
     "name": "stdout",
     "output_type": "stream",
     "text": [
      "I am a Base with value 5\n",
      "I am a Derived with value 6\n"
     ]
    },
    {
     "data": {
      "text/plain": []
     },
     "execution_count": 7,
     "metadata": {},
     "output_type": "execute_result"
    }
   ],
   "source": [
    "std::vector<Base *> v2{};\n",
    "\n",
    "Base b2{5}; // b and d show be initiate explicitly!\n",
    "Derived d2{6};\n",
    "\n",
    "v2.push_back(&b2);\n",
    "v2.push_back(&d2);\n",
    "\n",
    "for (const auto *element: v2)\n",
    "  std::cout << \"I am a \" << element->get_name() << \" with value \" << element->get_m_val() << '\\n';"
   ]
  },
  {
   "cell_type": "markdown",
   "id": "b71719dd-b41a-4c21-b0c7-5a8e1a51938b",
   "metadata": {},
   "source": [
    "## **The Frankenobject**"
   ]
  },
  {
   "cell_type": "code",
   "execution_count": 8,
   "id": "af184ad3-ca30-41fd-9f52-31d990a6e89f",
   "metadata": {},
   "outputs": [
    {
     "name": "stdout",
     "output_type": "stream",
     "text": [
      "I am a Derived with value 5\n"
     ]
    },
    {
     "data": {
      "text/plain": [
       "(std::basic_ostream<char, std::char_traits<char> > &) @0x7f0b754e3700\n"
      ]
     },
     "execution_count": 8,
     "metadata": {},
     "output_type": "execute_result"
    }
   ],
   "source": [
    "Derived dd1{ 5 };\n",
    "Derived dd2{ 6 };\n",
    "Base &bb{ dd2 };\n",
    "\n",
    "bb = dd1; // cause problem\n",
    "std::cout << \"I am a \" << bb.get_name() << \" with value \" << bb.get_m_val() << '\\n';"
   ]
  },
  {
   "cell_type": "code",
   "execution_count": null,
   "id": "45c43e85-b786-4c84-8f97-a7ff55c486fd",
   "metadata": {},
   "outputs": [],
   "source": []
  }
 ],
 "metadata": {
  "kernelspec": {
   "display_name": "C++17",
   "language": "C++",
   "name": "cling-cpp17"
  },
  "language_info": {
   "codemirror_mode": "c++",
   "file_extension": ".c++",
   "mimetype": "text/x-c++src",
   "name": "c++"
  }
 },
 "nbformat": 4,
 "nbformat_minor": 5
}
