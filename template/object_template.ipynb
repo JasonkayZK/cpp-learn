{
 "cells": [
  {
   "cell_type": "markdown",
   "id": "cf2e05d2-137b-499a-9b7b-6d62c436cf4b",
   "metadata": {},
   "source": [
    "# Object Template\n",
    "\n",
    "A Object Template demo."
   ]
  },
  {
   "cell_type": "markdown",
   "id": "d45b0a22-4a76-480b-8908-bda6db755d53",
   "metadata": {},
   "source": [
    "## Define Object Template"
   ]
  },
  {
   "cell_type": "code",
   "execution_count": 1,
   "id": "9aba8a1b-5347-47ae-8f14-7b55e610f04c",
   "metadata": {},
   "outputs": [
    {
     "data": {
      "text/plain": []
     },
     "execution_count": 1,
     "metadata": {},
     "output_type": "execute_result"
    }
   ],
   "source": [
    "#include <iostream>\n",
    "#include <vector>\n",
    "\n",
    "\n",
    "template<typename Object>\n",
    "class MemoryCell {\n",
    "public:\n",
    "    explicit MemoryCell(const Object &initialValue = Object())\n",
    "            : storedValue(initialValue) {}\n",
    "\n",
    "    const Object &read() const { return storedValue; }\n",
    "\n",
    "    void write(const Object &x) { storedValue = x; }\n",
    "\n",
    "private:\n",
    "    Object storedValue;\n",
    "};"
   ]
  },
  {
   "cell_type": "markdown",
   "id": "915f19cf-87dd-431a-b553-f3076be22637",
   "metadata": {},
   "source": [
    "## Use Object Template"
   ]
  },
  {
   "cell_type": "code",
   "execution_count": 2,
   "id": "136e7bea-d524-4344-93d8-156deebb94ff",
   "metadata": {},
   "outputs": [
    {
     "name": "stdout",
     "output_type": "stream",
     "text": [
      "42\n",
      "2\n"
     ]
    },
    {
     "data": {
      "text/plain": [
       "(std::basic_ostream<char, std::char_traits<char> >::__ostream_type &) @0x7ff30d234700\n"
      ]
     },
     "execution_count": 2,
     "metadata": {},
     "output_type": "execute_result"
    }
   ],
   "source": [
    "MemoryCell<int> cell;\n",
    "cell.write(42);\n",
    "std::cout << cell.read() << std::endl;\n",
    "\n",
    "\n",
    "MemoryCell<std::vector<int>> cell2;\n",
    "cell2.write({1, 2, 3});\n",
    "std::cout << cell2.read()[1] << std::endl;"
   ]
  },
  {
   "cell_type": "code",
   "execution_count": null,
   "id": "a186f0f8-1c24-43e5-87eb-321f810b7989",
   "metadata": {},
   "outputs": [],
   "source": []
  }
 ],
 "metadata": {
  "kernelspec": {
   "display_name": "C++17",
   "language": "C++",
   "name": "cling-cpp17"
  },
  "language_info": {
   "codemirror_mode": "c++",
   "file_extension": ".c++",
   "mimetype": "text/x-c++src",
   "name": "c++"
  }
 },
 "nbformat": 4,
 "nbformat_minor": 5
}
