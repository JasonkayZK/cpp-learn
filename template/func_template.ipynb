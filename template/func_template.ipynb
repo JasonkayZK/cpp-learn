{
 "cells": [
  {
   "cell_type": "markdown",
   "id": "61cc874c-fc96-4fa7-8d18-0828bb20315d",
   "metadata": {},
   "source": [
    "# Function Template\n",
    "\n",
    "Template for function demo."
   ]
  },
  {
   "cell_type": "markdown",
   "id": "0a7b1bf5-1a30-48f4-b3ac-69fa430dff30",
   "metadata": {},
   "source": [
    "## Define Function Template"
   ]
  },
  {
   "cell_type": "code",
   "execution_count": 2,
   "id": "dcfb3e31-80f9-4594-923b-2a9b0ac537ac",
   "metadata": {},
   "outputs": [
    {
     "data": {
      "text/plain": []
     },
     "execution_count": 2,
     "metadata": {},
     "output_type": "execute_result"
    }
   ],
   "source": [
    "#include <iostream>\n",
    "#include <vector>\n",
    "\n",
    "template<typename Comparable>\n",
    "const Comparable &findMax(const std::vector<Comparable> &a) {\n",
    "    int maxIndex = 0;\n",
    "    for (int i = 1; i < a.size(); i++)\n",
    "        if (a[i] > a[maxIndex])\n",
    "            maxIndex = i;\n",
    "    return a[maxIndex];\n",
    "}"
   ]
  },
  {
   "cell_type": "markdown",
   "id": "9d728067-a47c-4ffc-ad4a-f956b6c7ed47",
   "metadata": {},
   "source": [
    "## Use Function Template"
   ]
  },
  {
   "cell_type": "code",
   "execution_count": 3,
   "id": "efbf92c1-3ba4-4502-9ed6-13aaff77ea03",
   "metadata": {},
   "outputs": [
    {
     "name": "stdout",
     "output_type": "stream",
     "text": [
      "10\n",
      "j\n"
     ]
    },
    {
     "data": {
      "text/plain": [
       "(std::basic_ostream<char, std::char_traits<char> >::__ostream_type &) @0x7f62a32b2700\n"
      ]
     },
     "execution_count": 3,
     "metadata": {},
     "output_type": "execute_result"
    }
   ],
   "source": [
    "std::vector<int> a = {1, 2, 3, 4, 5, 6, 7, 8, 9, 10};\n",
    "std::vector<std::string> b = {\"a\", \"b\", \"c\", \"d\", \"e\", \"f\", \"g\", \"h\", \"i\", \"j\"};\n",
    "\n",
    "std::cout << findMax(a) << std::endl;\n",
    "std::cout << findMax(b) << std::endl;"
   ]
  },
  {
   "cell_type": "code",
   "execution_count": null,
   "id": "2977da10-cca8-4ade-b758-6f72f0ce114f",
   "metadata": {},
   "outputs": [],
   "source": []
  }
 ],
 "metadata": {
  "kernelspec": {
   "display_name": "C++17",
   "language": "C++",
   "name": "cling-cpp17"
  },
  "language_info": {
   "codemirror_mode": "c++",
   "file_extension": ".c++",
   "mimetype": "text/x-c++src",
   "name": "c++"
  }
 },
 "nbformat": 4,
 "nbformat_minor": 5
}
